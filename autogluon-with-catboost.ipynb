{
 "cells": [
  {
   "cell_type": "code",
   "execution_count": 2,
   "metadata": {},
   "outputs": [
    {
     "name": "stderr",
     "output_type": "stream",
     "text": [
      "c:\\Users\\Taheera Ahmed\\code\\tdt4173-project\\tdt4173-project\\lib\\site-packages\\tqdm\\auto.py:21: TqdmWarning: IProgress not found. Please update jupyter and ipywidgets. See https://ipywidgets.readthedocs.io/en/stable/user_install.html\n",
      "  from .autonotebook import tqdm as notebook_tqdm\n"
     ]
    }
   ],
   "source": [
    "from utils.read_data import get_train_targets, load_data, get_test_data, prepare_submission\n",
    "from utils.generate_run_name import generate_run_name\n",
    "import numpy as np\n",
    "import logging\n",
    "from sklearn.pipeline import Pipeline\n",
    "from sklearn.ensemble import StackingRegressor\n",
    "from sklearn.linear_model import LinearRegression\n",
    "import catboost as cb\n",
    "from sklearn.pipeline import Pipeline\n",
    "from sklearn.base import BaseEstimator, TransformerMixin\n",
    "from autogluon.tabular import TabularPredictor\n",
    "import logging\n",
    "import pandas as pd\n",
    "from sklearn.base import BaseEstimator, RegressorMixin"
   ]
  },
  {
   "cell_type": "code",
   "execution_count": 4,
   "metadata": {},
   "outputs": [],
   "source": [
    "drop_cols = ['time', 'elevation:m', 'fresh_snow_1h:cm', 'ceiling_height_agl:m', 'snow_density:kgm3', \n",
    "             'wind_speed_w_1000hPa:ms', 'snow_drift:idx', 'fresh_snow_3h:cm', 'is_in_shadow:idx', 'dew_or_rime:idx', 'fresh_snow_6h:cm', 'prob_rime:p'] # this second line is columns with feature importance == 0\n",
    "\n",
    "data_a, data_b, data_c = load_data(mean=True, remove_out=True, roll_avg=True, cust_feat=True, drop_cols=drop_cols, cycle_encoding = True)\n",
    "X_test_a, X_test_b, X_test_c = get_test_data(mean=True, roll_avg=True, cust_feat=True, cycle_encoding = True)\n",
    "\n",
    "# Assuming get_train_targets is defined and returns the features and target\n",
    "X_train_a, y_a = get_train_targets(data_a)\n",
    "X_train_b, y_b = get_train_targets(data_b)\n",
    "X_train_c, y_c = get_train_targets(data_c)"
   ]
  },
  {
   "cell_type": "code",
   "execution_count": 5,
   "metadata": {},
   "outputs": [],
   "source": [
    "class AutoGluonWrapper(BaseEstimator, RegressorMixin):\n",
    "    def __init__(self, path):\n",
    "        self.path = path\n",
    "        self.model = TabularPredictor.load(path)\n",
    "\n",
    "    def fit(self, X, y):\n",
    "        # AutoGluon's fit method is called during the initial training, \n",
    "        # so we don't need to call it here again.\n",
    "        # Just return self to adhere to scikit-learn's fit method requirements.\n",
    "        return self\n",
    "\n",
    "    def predict(self, X):\n",
    "        return self.model.predict(X)"
   ]
  },
  {
   "cell_type": "code",
   "execution_count": 8,
   "metadata": {},
   "outputs": [
    {
     "name": "stderr",
     "output_type": "stream",
     "text": [
      "<>:15: SyntaxWarning: 'tuple' object is not callable; perhaps you missed a comma?\n",
      "<>:15: SyntaxWarning: 'tuple' object is not callable; perhaps you missed a comma?\n",
      "\n",
      "############################## WARNING ##############################\n",
      "WARNING: AutoGluon version differs from the version used to create the predictor! This may lead to instability and it is highly recommended the predictor be loaded with the exact AutoGluon version it was created with.\n",
      "\tPredictor Version: 0.8.2\n",
      "\tCurrent Version:   0.5.3\n",
      "############################## WARNING ##############################\n",
      "\n"
     ]
    },
    {
     "ename": "AssertionError",
     "evalue": "Predictor was created on version 0.8.2 but is being loaded with version 0.5.3. Please ensure the versions match to avoid instability. While it is NOT recommended, this error can be bypassed by specifying `require_version_match=False`.",
     "output_type": "error",
     "traceback": [
      "\u001b[1;31m---------------------------------------------------------------------------\u001b[0m",
      "\u001b[1;31mAssertionError\u001b[0m                            Traceback (most recent call last)",
      "\u001b[1;32mc:\\Users\\Taheera Ahmed\\code\\tdt4173-project\\autogluon-with-catboost.ipynb Cell 4\u001b[0m line \u001b[0;36m2\n\u001b[0;32m      <a href='vscode-notebook-cell:/c%3A/Users/Taheera%20Ahmed/code/tdt4173-project/autogluon-with-catboost.ipynb#W3sZmlsZQ%3D%3D?line=0'>1</a>\u001b[0m \u001b[39m# Now you can add your AutoGluon model to the base models\u001b[39;00m\n\u001b[1;32m----> <a href='vscode-notebook-cell:/c%3A/Users/Taheera%20Ahmed/code/tdt4173-project/autogluon-with-catboost.ipynb#W3sZmlsZQ%3D%3D?line=1'>2</a>\u001b[0m autogluon_model_a \u001b[39m=\u001b[39m AutoGluonWrapper(\u001b[39m\"\u001b[39;49m\u001b[39mE:\u001b[39;49m\u001b[39m\\\\\u001b[39;49;00m\u001b[39mJert Mira-A\u001b[39;49m\u001b[39m\"\u001b[39;49m)\n\u001b[0;32m      <a href='vscode-notebook-cell:/c%3A/Users/Taheera%20Ahmed/code/tdt4173-project/autogluon-with-catboost.ipynb#W3sZmlsZQ%3D%3D?line=3'>4</a>\u001b[0m autogluon_predictions_a \u001b[39m=\u001b[39m autogluon_model_a\u001b[39m.\u001b[39mpredict(X_train_a)\n\u001b[0;32m      <a href='vscode-notebook-cell:/c%3A/Users/Taheera%20Ahmed/code/tdt4173-project/autogluon-with-catboost.ipynb#W3sZmlsZQ%3D%3D?line=4'>5</a>\u001b[0m autogluon_predictions_test_a \u001b[39m=\u001b[39m autogluon_model_a\u001b[39m.\u001b[39mpredict(X_test_a)\n",
      "\u001b[1;32mc:\\Users\\Taheera Ahmed\\code\\tdt4173-project\\autogluon-with-catboost.ipynb Cell 4\u001b[0m line \u001b[0;36m4\n\u001b[0;32m      <a href='vscode-notebook-cell:/c%3A/Users/Taheera%20Ahmed/code/tdt4173-project/autogluon-with-catboost.ipynb#W3sZmlsZQ%3D%3D?line=1'>2</a>\u001b[0m \u001b[39mdef\u001b[39;00m \u001b[39m__init__\u001b[39m(\u001b[39mself\u001b[39m, path):\n\u001b[0;32m      <a href='vscode-notebook-cell:/c%3A/Users/Taheera%20Ahmed/code/tdt4173-project/autogluon-with-catboost.ipynb#W3sZmlsZQ%3D%3D?line=2'>3</a>\u001b[0m     \u001b[39mself\u001b[39m\u001b[39m.\u001b[39mpath \u001b[39m=\u001b[39m path\n\u001b[1;32m----> <a href='vscode-notebook-cell:/c%3A/Users/Taheera%20Ahmed/code/tdt4173-project/autogluon-with-catboost.ipynb#W3sZmlsZQ%3D%3D?line=3'>4</a>\u001b[0m     \u001b[39mself\u001b[39m\u001b[39m.\u001b[39mmodel \u001b[39m=\u001b[39m TabularPredictor\u001b[39m.\u001b[39;49mload(path)\n",
      "File \u001b[1;32mc:\\Users\\Taheera Ahmed\\code\\tdt4173-project\\tdt4173-project\\lib\\site-packages\\autogluon\\tabular\\predictor\\predictor.py:2895\u001b[0m, in \u001b[0;36mTabularPredictor.load\u001b[1;34m(cls, path, verbosity, require_version_match)\u001b[0m\n\u001b[0;32m   2893\u001b[0m     logger\u001b[39m.\u001b[39mwarning(\u001b[39m'\u001b[39m\u001b[39m'\u001b[39m)\n\u001b[0;32m   2894\u001b[0m     \u001b[39mif\u001b[39;00m require_version_match:\n\u001b[1;32m-> 2895\u001b[0m         \u001b[39mraise\u001b[39;00m \u001b[39mAssertionError\u001b[39;00m(\n\u001b[0;32m   2896\u001b[0m             \u001b[39mf\u001b[39m\u001b[39m'\u001b[39m\u001b[39mPredictor was created on version \u001b[39m\u001b[39m{\u001b[39;00mversion_init\u001b[39m}\u001b[39;00m\u001b[39m but is being loaded with version \u001b[39m\u001b[39m{\u001b[39;00mversion_load\u001b[39m}\u001b[39;00m\u001b[39m. \u001b[39m\u001b[39m'\u001b[39m\n\u001b[0;32m   2897\u001b[0m             \u001b[39mf\u001b[39m\u001b[39m'\u001b[39m\u001b[39mPlease ensure the versions match to avoid instability. While it is NOT recommended, \u001b[39m\u001b[39m'\u001b[39m\n\u001b[0;32m   2898\u001b[0m             \u001b[39mf\u001b[39m\u001b[39m'\u001b[39m\u001b[39mthis error can be bypassed by specifying `require_version_match=False`.\u001b[39m\u001b[39m'\u001b[39m)\n\u001b[0;32m   2900\u001b[0m \u001b[39mif\u001b[39;00m predictor \u001b[39mis\u001b[39;00m \u001b[39mNone\u001b[39;00m:\n\u001b[0;32m   2901\u001b[0m     predictor \u001b[39m=\u001b[39m \u001b[39mcls\u001b[39m\u001b[39m.\u001b[39m_load(path\u001b[39m=\u001b[39mpath)\n",
      "\u001b[1;31mAssertionError\u001b[0m: Predictor was created on version 0.8.2 but is being loaded with version 0.5.3. Please ensure the versions match to avoid instability. While it is NOT recommended, this error can be bypassed by specifying `require_version_match=False`."
     ]
    }
   ],
   "source": [
    "# Now you can add your AutoGluon model to the base models\n",
    "autogluon_model_a = AutoGluonWrapper(\"E:\\\\Jert Mira-A\")\n",
    "\n",
    "autogluon_predictions_a = autogluon_model_a.predict(X_train_a)\n",
    "autogluon_predictions_test_a = autogluon_model_a.predict(X_test_a)\n",
    "\n",
    "X_test_a = pd.concat([X_test_a, autogluon_predictions_test_a], axis=1)\n",
    "X_train_a = pd.concat([X_train_a, autogluon_predictions_a], axis=1)\n",
    "\n",
    "\"\"\"\n",
    "cat_boost1: bayesian_search on params given feat_eng from 07.nov\n",
    "cat_boost2: from best kaggle submission\n",
    "\"\"\"\n",
    "base_model_a = [\n",
    "    ('autogluon', autogluon_model_a)\n",
    "    ('cat_boost3', cb.CatBoostRegressor(random_state=42, silent=True)),\n",
    "]\n",
    "# Define meta-learners for each location\n",
    "meta_learner_a = LinearRegression()\n",
    "\n",
    "    # Create the stacking regressor for the current location\n",
    "stacked_model = StackingRegressor(estimators=base_model_a, final_estimator=meta_learner_a)\n",
    "\n",
    "# Create the whole model pipeline for the current location\n",
    "whole_model_pipeline = Pipeline([\n",
    "    ('stacked_model', stacked_model)\n",
    "])"
   ]
  },
  {
   "cell_type": "code",
   "execution_count": null,
   "metadata": {},
   "outputs": [],
   "source": [
    "whole_model_pipeline.fit(X_train_a, y_a)\n",
    "predictions = whole_model_pipeline.predict(X_test_a.drop(columns=[\"id\", \"prediction\", \"location\"]))\n",
    "\n",
    "# Prepare submission using the predictions\n",
    "prepare_submission(X_test_a, predictions, run_name=run_name)"
   ]
  }
 ],
 "metadata": {
  "kernelspec": {
   "display_name": "tdt4173-project",
   "language": "python",
   "name": "python3"
  },
  "language_info": {
   "codemirror_mode": {
    "name": "ipython",
    "version": 3
   },
   "file_extension": ".py",
   "mimetype": "text/x-python",
   "name": "python",
   "nbconvert_exporter": "python",
   "pygments_lexer": "ipython3",
   "version": "3.8.10"
  }
 },
 "nbformat": 4,
 "nbformat_minor": 2
}
