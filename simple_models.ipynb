{
 "cells": [
  {
   "cell_type": "code",
   "execution_count": 2,
   "metadata": {},
   "outputs": [],
   "source": [
    "import pandas as pd\n",
    "import numpy as np\n",
    "from functions import load_data, get_train_targets, get_test_data, prepare_submission, remove_ouliers\n",
    "\n",
    "data_a, data_b, data_c = load_data()\n",
    "\n",
    "data_a = remove_ouliers(data_a)\n",
    "data_b = remove_ouliers(data_b)\n",
    "data_c = remove_ouliers(data_c)\n",
    "\n",
    "X_train_a, targets_a = get_train_targets(data_a)\n",
    "X_train_b, targets_b = get_train_targets(data_b)\n",
    "X_train_c, targets_c = get_train_targets(data_c)\n",
    "\n",
    "X_test_a, X_test_b, X_test_c = get_test_data()"
   ]
  },
  {
   "cell_type": "code",
   "execution_count": 13,
   "metadata": {},
   "outputs": [],
   "source": [
    "locA_features = ['clear_sky_energy_1h:J', 'cloud_base_agl:m', 'dew_point_2m:K', \n",
    "                 'diffuse_rad_1h:J', 'direct_rad_1h:J', 'sun_azimuth:d', 'sun_elevation:d', \n",
    "                 'wind_speed_u_10m:ms','sfc_pressure:hPa','snow_water:kgm2','precip_5min:mm', \n",
    "                 'fresh_snow_3h:cm']\n",
    "\n",
    "drop_colsA = list(set(list(X_train_a.columns)) - set(locA_features))\n",
    "\n",
    "log_transformA = ['cloud_base_agl:m', 'dew_or_rime:idx', 'dew_point_2m:K', 'diffuse_rad_1h:J', 'direct_rad_1h:J', 'sun_elevation:d', \n",
    "                 'snow_water:kgm2','precip_5min:mm', 'fresh_snow_3h:cm','dew_point_2m:K']\n",
    "\n",
    "locB_features = ['clear_sky_rad:W', 'cloud_base_agl:m',\n",
    "                 'diffuse_rad:W', 'direct_rad:W', 'sun_azimuth:d', 'sun_elevation:d', \n",
    "                 'wind_speed_u_10m:ms','sfc_pressure:hPa','snow_water:kgm2','precip_5min:mm', \n",
    "                 'fresh_snow_3h:cm','dew_point_2m:K']\n",
    "\n",
    "drop_colsB = list(set(list(X_train_b.columns)) - set(locB_features))\n",
    "\n",
    "\n",
    "locC_features = ['clear_sky_rad:W', 'cloud_base_agl:m',\n",
    "                 'diffuse_rad:W', 'direct_rad:W', 'sun_azimuth:d', 'sun_elevation:d', \n",
    "                 'wind_speed_u_10m:ms','sfc_pressure:hPa','snow_water:kgm2','precip_5min:mm', \n",
    "                 'fresh_snow_3h:cm','dew_point_2m:K']\n",
    "\n",
    "drop_colsC = list(set(list(X_train_c.columns)) - set(locC_features))"
   ]
  },
  {
   "cell_type": "code",
   "execution_count": 16,
   "metadata": {},
   "outputs": [
    {
     "name": "stderr",
     "output_type": "stream",
     "text": [
      "<>:31: SyntaxWarning: 'tuple' object is not callable; perhaps you missed a comma?\n",
      "<>:31: SyntaxWarning: 'tuple' object is not callable; perhaps you missed a comma?\n",
      "/var/folders/n0/h43nw_h10zg8v_gzjtqbktp80000gn/T/ipykernel_75253/1692105942.py:31: SyntaxWarning: 'tuple' object is not callable; perhaps you missed a comma?\n",
      "  ('log_transform', np.log1p, log_transformA)\n",
      "/var/folders/n0/h43nw_h10zg8v_gzjtqbktp80000gn/T/ipykernel_75253/1692105942.py:31: SyntaxWarning: 'tuple' object is not callable; perhaps you missed a comma?\n",
      "  ('log_transform', np.log1p, log_transformA)\n",
      "/var/folders/n0/h43nw_h10zg8v_gzjtqbktp80000gn/T/ipykernel_75253/1692105942.py:31: SyntaxWarning: 'tuple' object is not callable; perhaps you missed a comma?\n",
      "  ('log_transform', np.log1p, log_transformA)\n",
      "/var/folders/n0/h43nw_h10zg8v_gzjtqbktp80000gn/T/ipykernel_75253/1692105942.py:31: SyntaxWarning: 'tuple' object is not callable; perhaps you missed a comma?\n",
      "  ('log_transform', np.log1p, log_transformA)\n",
      "/var/folders/n0/h43nw_h10zg8v_gzjtqbktp80000gn/T/ipykernel_75253/1692105942.py:31: SyntaxWarning: 'tuple' object is not callable; perhaps you missed a comma?\n",
      "  ('log_transform', np.log1p, log_transformA)\n",
      "/var/folders/n0/h43nw_h10zg8v_gzjtqbktp80000gn/T/ipykernel_75253/1692105942.py:31: SyntaxWarning: 'tuple' object is not callable; perhaps you missed a comma?\n",
      "  ('log_transform', np.log1p, log_transformA)\n",
      "/var/folders/n0/h43nw_h10zg8v_gzjtqbktp80000gn/T/ipykernel_75253/1692105942.py:31: SyntaxWarning: 'tuple' object is not callable; perhaps you missed a comma?\n",
      "  ('log_transform', np.log1p, log_transformA)\n"
     ]
    },
    {
     "ename": "TypeError",
     "evalue": "'tuple' object is not callable",
     "output_type": "error",
     "traceback": [
      "\u001b[0;31m---------------------------------------------------------------------------\u001b[0m",
      "\u001b[0;31mTypeError\u001b[0m                                 Traceback (most recent call last)",
      "\u001b[1;32m/Users/andreastallvik/Projects/tdt4173-project/simple_models.ipynb Cell 3\u001b[0m line \u001b[0;36m3\n\u001b[1;32m     <a href='vscode-notebook-cell:/Users/andreastallvik/Projects/tdt4173-project/simple_models.ipynb#W2sZmlsZQ%3D%3D?line=19'>20</a>\u001b[0m         \u001b[39mreturn\u001b[39;00m X_copy\u001b[39m.\u001b[39mdrop(columns\u001b[39m=\u001b[39m\u001b[39mself\u001b[39m\u001b[39m.\u001b[39mdrop_cols)\n\u001b[1;32m     <a href='vscode-notebook-cell:/Users/andreastallvik/Projects/tdt4173-project/simple_models.ipynb#W2sZmlsZQ%3D%3D?line=21'>22</a>\u001b[0m \u001b[39m# data_process_pipeline = Pipeline([\u001b[39;00m\n\u001b[1;32m     <a href='vscode-notebook-cell:/Users/andreastallvik/Projects/tdt4173-project/simple_models.ipynb#W2sZmlsZQ%3D%3D?line=22'>23</a>\u001b[0m \u001b[39m#     ('drop_cols', ColumnDropper(drop_cols=drop_cols)),\u001b[39;00m\n\u001b[1;32m     <a href='vscode-notebook-cell:/Users/andreastallvik/Projects/tdt4173-project/simple_models.ipynb#W2sZmlsZQ%3D%3D?line=23'>24</a>\u001b[0m \u001b[39m#     ('imputer', SimpleImputer(missing_values=np.nan, strategy='constant', fill_value=0)),\u001b[39;00m\n\u001b[1;32m     <a href='vscode-notebook-cell:/Users/andreastallvik/Projects/tdt4173-project/simple_models.ipynb#W2sZmlsZQ%3D%3D?line=24'>25</a>\u001b[0m \u001b[39m# ])\u001b[39;00m\n\u001b[1;32m     <a href='vscode-notebook-cell:/Users/andreastallvik/Projects/tdt4173-project/simple_models.ipynb#W2sZmlsZQ%3D%3D?line=27'>28</a>\u001b[0m locA_pipeline \u001b[39m=\u001b[39m Pipeline([\n\u001b[1;32m     <a href='vscode-notebook-cell:/Users/andreastallvik/Projects/tdt4173-project/simple_models.ipynb#W2sZmlsZQ%3D%3D?line=28'>29</a>\u001b[0m     \u001b[39m#('data_process', data_process_pipeline),\u001b[39;00m\n\u001b[1;32m     <a href='vscode-notebook-cell:/Users/andreastallvik/Projects/tdt4173-project/simple_models.ipynb#W2sZmlsZQ%3D%3D?line=29'>30</a>\u001b[0m     (\u001b[39m'\u001b[39m\u001b[39mdrop_cols\u001b[39m\u001b[39m'\u001b[39m, ColumnDropper(drop_cols\u001b[39m=\u001b[39mdrop_colsA)),\n\u001b[0;32m---> <a href='vscode-notebook-cell:/Users/andreastallvik/Projects/tdt4173-project/simple_models.ipynb#W2sZmlsZQ%3D%3D?line=30'>31</a>\u001b[0m     (\u001b[39m'\u001b[39;49m\u001b[39mlog_transform\u001b[39;49m\u001b[39m'\u001b[39;49m, np\u001b[39m.\u001b[39;49mlog1p, log_transformA)\n\u001b[1;32m     <a href='vscode-notebook-cell:/Users/andreastallvik/Projects/tdt4173-project/simple_models.ipynb#W2sZmlsZQ%3D%3D?line=31'>32</a>\u001b[0m     (\u001b[39m'\u001b[39;49m\u001b[39mimputer\u001b[39;49m\u001b[39m'\u001b[39;49m, SimpleImputer(missing_values\u001b[39m=\u001b[39;49mnp\u001b[39m.\u001b[39;49mnan, strategy\u001b[39m=\u001b[39;49m\u001b[39m'\u001b[39;49m\u001b[39mconstant\u001b[39;49m\u001b[39m'\u001b[39;49m, fill_value\u001b[39m=\u001b[39;49m\u001b[39m0\u001b[39;49m)),\n\u001b[1;32m     <a href='vscode-notebook-cell:/Users/andreastallvik/Projects/tdt4173-project/simple_models.ipynb#W2sZmlsZQ%3D%3D?line=32'>33</a>\u001b[0m     (\u001b[39m'\u001b[39m\u001b[39msvr\u001b[39m\u001b[39m'\u001b[39m, SVR(kernel\u001b[39m=\u001b[39m\u001b[39m'\u001b[39m\u001b[39mlinear\u001b[39m\u001b[39m'\u001b[39m))\n\u001b[1;32m     <a href='vscode-notebook-cell:/Users/andreastallvik/Projects/tdt4173-project/simple_models.ipynb#W2sZmlsZQ%3D%3D?line=33'>34</a>\u001b[0m ])\n\u001b[1;32m     <a href='vscode-notebook-cell:/Users/andreastallvik/Projects/tdt4173-project/simple_models.ipynb#W2sZmlsZQ%3D%3D?line=35'>36</a>\u001b[0m locB_pipeline \u001b[39m=\u001b[39m Pipeline([\n\u001b[1;32m     <a href='vscode-notebook-cell:/Users/andreastallvik/Projects/tdt4173-project/simple_models.ipynb#W2sZmlsZQ%3D%3D?line=36'>37</a>\u001b[0m     \u001b[39m#('data_process', data_process_pipeline),\u001b[39;00m\n\u001b[1;32m     <a href='vscode-notebook-cell:/Users/andreastallvik/Projects/tdt4173-project/simple_models.ipynb#W2sZmlsZQ%3D%3D?line=37'>38</a>\u001b[0m     (\u001b[39m'\u001b[39m\u001b[39mdrop_cols\u001b[39m\u001b[39m'\u001b[39m, ColumnDropper(drop_cols\u001b[39m=\u001b[39mdrop_colsB)),\n\u001b[1;32m     <a href='vscode-notebook-cell:/Users/andreastallvik/Projects/tdt4173-project/simple_models.ipynb#W2sZmlsZQ%3D%3D?line=38'>39</a>\u001b[0m     (\u001b[39m'\u001b[39m\u001b[39mimputer\u001b[39m\u001b[39m'\u001b[39m, SimpleImputer(missing_values\u001b[39m=\u001b[39mnp\u001b[39m.\u001b[39mnan, strategy\u001b[39m=\u001b[39m\u001b[39m'\u001b[39m\u001b[39mconstant\u001b[39m\u001b[39m'\u001b[39m, fill_value\u001b[39m=\u001b[39m\u001b[39m0\u001b[39m)),\n\u001b[1;32m     <a href='vscode-notebook-cell:/Users/andreastallvik/Projects/tdt4173-project/simple_models.ipynb#W2sZmlsZQ%3D%3D?line=39'>40</a>\u001b[0m     (\u001b[39m'\u001b[39m\u001b[39mrandom_forest\u001b[39m\u001b[39m'\u001b[39m, RandomForestRegressor(bootstrap\u001b[39m=\u001b[39m\u001b[39mFalse\u001b[39;00m, max_features\u001b[39m=\u001b[39m\u001b[39m0.4\u001b[39m, min_samples_leaf\u001b[39m=\u001b[39m\u001b[39m5\u001b[39m, min_samples_split\u001b[39m=\u001b[39m\u001b[39m2\u001b[39m, n_estimators\u001b[39m=\u001b[39m\u001b[39m100\u001b[39m, random_state\u001b[39m=\u001b[39m\u001b[39m1\u001b[39m))\n\u001b[1;32m     <a href='vscode-notebook-cell:/Users/andreastallvik/Projects/tdt4173-project/simple_models.ipynb#W2sZmlsZQ%3D%3D?line=40'>41</a>\u001b[0m ])\n\u001b[1;32m     <a href='vscode-notebook-cell:/Users/andreastallvik/Projects/tdt4173-project/simple_models.ipynb#W2sZmlsZQ%3D%3D?line=42'>43</a>\u001b[0m locC_pipeline \u001b[39m=\u001b[39m Pipeline([\n\u001b[1;32m     <a href='vscode-notebook-cell:/Users/andreastallvik/Projects/tdt4173-project/simple_models.ipynb#W2sZmlsZQ%3D%3D?line=43'>44</a>\u001b[0m     \u001b[39m#('data_process', data_process_pipeline),\u001b[39;00m\n\u001b[1;32m     <a href='vscode-notebook-cell:/Users/andreastallvik/Projects/tdt4173-project/simple_models.ipynb#W2sZmlsZQ%3D%3D?line=44'>45</a>\u001b[0m     (\u001b[39m'\u001b[39m\u001b[39mdrop_cols\u001b[39m\u001b[39m'\u001b[39m, ColumnDropper(drop_cols\u001b[39m=\u001b[39mdrop_colsC)),\n\u001b[1;32m     <a href='vscode-notebook-cell:/Users/andreastallvik/Projects/tdt4173-project/simple_models.ipynb#W2sZmlsZQ%3D%3D?line=45'>46</a>\u001b[0m     (\u001b[39m'\u001b[39m\u001b[39mimputer\u001b[39m\u001b[39m'\u001b[39m, SimpleImputer(missing_values\u001b[39m=\u001b[39mnp\u001b[39m.\u001b[39mnan, strategy\u001b[39m=\u001b[39m\u001b[39m'\u001b[39m\u001b[39mconstant\u001b[39m\u001b[39m'\u001b[39m, fill_value\u001b[39m=\u001b[39m\u001b[39m0\u001b[39m)),\n\u001b[1;32m     <a href='vscode-notebook-cell:/Users/andreastallvik/Projects/tdt4173-project/simple_models.ipynb#W2sZmlsZQ%3D%3D?line=46'>47</a>\u001b[0m     (\u001b[39m'\u001b[39m\u001b[39mrandom_forest\u001b[39m\u001b[39m'\u001b[39m, XGBRegressor(learning_rate\u001b[39m=\u001b[39m\u001b[39m0.1\u001b[39m, max_depth\u001b[39m=\u001b[39m\u001b[39m9\u001b[39m, min_child_weight\u001b[39m=\u001b[39m\u001b[39m3\u001b[39m, n_estimators\u001b[39m=\u001b[39m\u001b[39m100\u001b[39m, n_jobs\u001b[39m=\u001b[39m\u001b[39m1\u001b[39m, objective\u001b[39m=\u001b[39m\u001b[39m\"\u001b[39m\u001b[39mreg:squarederror\u001b[39m\u001b[39m\"\u001b[39m, subsample\u001b[39m=\u001b[39m\u001b[39m0.8500000000000001\u001b[39m, verbosity\u001b[39m=\u001b[39m\u001b[39m0\u001b[39m))\n\u001b[1;32m     <a href='vscode-notebook-cell:/Users/andreastallvik/Projects/tdt4173-project/simple_models.ipynb#W2sZmlsZQ%3D%3D?line=47'>48</a>\u001b[0m ])\n",
      "\u001b[0;31mTypeError\u001b[0m: 'tuple' object is not callable"
     ]
    }
   ],
   "source": [
    "from sklearn.pipeline import Pipeline\n",
    "from sklearn.base import BaseEstimator, TransformerMixin\n",
    "from sklearn.compose import ColumnTransformer\n",
    "from sklearn.impute import SimpleImputer\n",
    "from sklearn.ensemble import RandomForestRegressor\n",
    "from xgboost import XGBRegressor\n",
    "from sklearn.svm import SVR\n",
    "\n",
    "class ColumnDropper(BaseEstimator, TransformerMixin):\n",
    "    \"\"\"Drops columns from the data.\"\"\"\n",
    "\n",
    "    def __init__(self, drop_cols = []):\n",
    "        self.drop_cols = drop_cols\n",
    "\n",
    "    def fit(self, X, y=None):\n",
    "        return self\n",
    "\n",
    "    def transform(self, X):\n",
    "        X_copy = X.copy()\n",
    "        return X_copy.drop(columns=self.drop_cols)\n",
    "    \n",
    "class LogTransformer(BaseEstimator, TransformerMixin):\n",
    "    \"\"\"Does a log transform on specified columns.\"\"\"\n",
    "\n",
    "    def __init__(self, cols = []):\n",
    "        self.drop_cols = drop_cols\n",
    "\n",
    "    def fit(self, X, y=None):\n",
    "        return self\n",
    "\n",
    "    def transform(self, X):\n",
    "        X_copy = X.copy()\n",
    "        return X_copy.drop(columns=self.drop_cols)\n",
    "\n",
    "# data_process_pipeline = Pipeline([\n",
    "#     ('drop_cols', ColumnDropper(drop_cols=drop_cols)),\n",
    "#     ('imputer', SimpleImputer(missing_values=np.nan, strategy='constant', fill_value=0)),\n",
    "# ])\n",
    "\n",
    "\n",
    "locA_pipeline = Pipeline([\n",
    "    #('data_process', data_process_pipeline),\n",
    "    ('drop_cols', ColumnDropper(drop_cols=drop_colsA)),\n",
    "    ('log_transform', np.log1p, log_transformA)\n",
    "    ('imputer', SimpleImputer(missing_values=np.nan, strategy='constant', fill_value=0)),\n",
    "    ('svr', SVR(kernel='linear'))\n",
    "])\n",
    "\n",
    "locB_pipeline = Pipeline([\n",
    "    #('data_process', data_process_pipeline),\n",
    "    ('drop_cols', ColumnDropper(drop_cols=drop_colsB)),\n",
    "    ('imputer', SimpleImputer(missing_values=np.nan, strategy='constant', fill_value=0)),\n",
    "    ('random_forest', RandomForestRegressor(bootstrap=False, max_features=0.4, min_samples_leaf=5, min_samples_split=2, n_estimators=100, random_state=1))\n",
    "])\n",
    "\n",
    "locC_pipeline = Pipeline([\n",
    "    #('data_process', data_process_pipeline),\n",
    "    ('drop_cols', ColumnDropper(drop_cols=drop_colsC)),\n",
    "    ('imputer', SimpleImputer(missing_values=np.nan, strategy='constant', fill_value=0)),\n",
    "    ('random_forest', XGBRegressor(learning_rate=0.1, max_depth=9, min_child_weight=3, n_estimators=100, n_jobs=1, objective=\"reg:squarederror\", subsample=0.8500000000000001, verbosity=0))\n",
    "])"
   ]
  },
  {
   "cell_type": "code",
   "execution_count": 15,
   "metadata": {},
   "outputs": [
    {
     "ename": "TypeError",
     "evalue": "All estimators should implement fit and transform, or can be 'drop' or 'passthrough' specifiers. '<ufunc 'log1p'>' (type <class 'numpy.ufunc'>) doesn't.",
     "output_type": "error",
     "traceback": [
      "\u001b[0;31m---------------------------------------------------------------------------\u001b[0m",
      "\u001b[0;31mTypeError\u001b[0m                                 Traceback (most recent call last)",
      "\u001b[1;32m/Users/andreastallvik/Projects/tdt4173-project/simple_models.ipynb Cell 4\u001b[0m line \u001b[0;36m1\n\u001b[0;32m----> <a href='vscode-notebook-cell:/Users/andreastallvik/Projects/tdt4173-project/simple_models.ipynb#W4sZmlsZQ%3D%3D?line=0'>1</a>\u001b[0m locA_pipeline\u001b[39m.\u001b[39;49mfit(X_train_a, targets_a)\n\u001b[1;32m      <a href='vscode-notebook-cell:/Users/andreastallvik/Projects/tdt4173-project/simple_models.ipynb#W4sZmlsZQ%3D%3D?line=1'>2</a>\u001b[0m pred_a \u001b[39m=\u001b[39m locA_pipeline\u001b[39m.\u001b[39mpredict(X_test_a\u001b[39m.\u001b[39mdrop(columns\u001b[39m=\u001b[39m[\u001b[39m\"\u001b[39m\u001b[39mid\u001b[39m\u001b[39m\"\u001b[39m, \u001b[39m\"\u001b[39m\u001b[39mprediction\u001b[39m\u001b[39m\"\u001b[39m, \u001b[39m\"\u001b[39m\u001b[39mlocation\u001b[39m\u001b[39m\"\u001b[39m]))\n",
      "File \u001b[0;32m~/Projects/tdt4173-project/venv/lib/python3.10/site-packages/sklearn/base.py:1152\u001b[0m, in \u001b[0;36m_fit_context.<locals>.decorator.<locals>.wrapper\u001b[0;34m(estimator, *args, **kwargs)\u001b[0m\n\u001b[1;32m   1145\u001b[0m     estimator\u001b[39m.\u001b[39m_validate_params()\n\u001b[1;32m   1147\u001b[0m \u001b[39mwith\u001b[39;00m config_context(\n\u001b[1;32m   1148\u001b[0m     skip_parameter_validation\u001b[39m=\u001b[39m(\n\u001b[1;32m   1149\u001b[0m         prefer_skip_nested_validation \u001b[39mor\u001b[39;00m global_skip_validation\n\u001b[1;32m   1150\u001b[0m     )\n\u001b[1;32m   1151\u001b[0m ):\n\u001b[0;32m-> 1152\u001b[0m     \u001b[39mreturn\u001b[39;00m fit_method(estimator, \u001b[39m*\u001b[39;49margs, \u001b[39m*\u001b[39;49m\u001b[39m*\u001b[39;49mkwargs)\n",
      "File \u001b[0;32m~/Projects/tdt4173-project/venv/lib/python3.10/site-packages/sklearn/pipeline.py:423\u001b[0m, in \u001b[0;36mPipeline.fit\u001b[0;34m(self, X, y, **fit_params)\u001b[0m\n\u001b[1;32m    397\u001b[0m \u001b[39m\u001b[39m\u001b[39m\"\"\"Fit the model.\u001b[39;00m\n\u001b[1;32m    398\u001b[0m \n\u001b[1;32m    399\u001b[0m \u001b[39mFit all the transformers one after the other and transform the\u001b[39;00m\n\u001b[0;32m   (...)\u001b[0m\n\u001b[1;32m    420\u001b[0m \u001b[39m    Pipeline with fitted steps.\u001b[39;00m\n\u001b[1;32m    421\u001b[0m \u001b[39m\"\"\"\u001b[39;00m\n\u001b[1;32m    422\u001b[0m fit_params_steps \u001b[39m=\u001b[39m \u001b[39mself\u001b[39m\u001b[39m.\u001b[39m_check_fit_params(\u001b[39m*\u001b[39m\u001b[39m*\u001b[39mfit_params)\n\u001b[0;32m--> 423\u001b[0m Xt \u001b[39m=\u001b[39m \u001b[39mself\u001b[39;49m\u001b[39m.\u001b[39;49m_fit(X, y, \u001b[39m*\u001b[39;49m\u001b[39m*\u001b[39;49mfit_params_steps)\n\u001b[1;32m    424\u001b[0m \u001b[39mwith\u001b[39;00m _print_elapsed_time(\u001b[39m\"\u001b[39m\u001b[39mPipeline\u001b[39m\u001b[39m\"\u001b[39m, \u001b[39mself\u001b[39m\u001b[39m.\u001b[39m_log_message(\u001b[39mlen\u001b[39m(\u001b[39mself\u001b[39m\u001b[39m.\u001b[39msteps) \u001b[39m-\u001b[39m \u001b[39m1\u001b[39m)):\n\u001b[1;32m    425\u001b[0m     \u001b[39mif\u001b[39;00m \u001b[39mself\u001b[39m\u001b[39m.\u001b[39m_final_estimator \u001b[39m!=\u001b[39m \u001b[39m\"\u001b[39m\u001b[39mpassthrough\u001b[39m\u001b[39m\"\u001b[39m:\n",
      "File \u001b[0;32m~/Projects/tdt4173-project/venv/lib/python3.10/site-packages/sklearn/pipeline.py:377\u001b[0m, in \u001b[0;36mPipeline._fit\u001b[0;34m(self, X, y, **fit_params_steps)\u001b[0m\n\u001b[1;32m    375\u001b[0m     cloned_transformer \u001b[39m=\u001b[39m clone(transformer)\n\u001b[1;32m    376\u001b[0m \u001b[39m# Fit or load from cache the current transformer\u001b[39;00m\n\u001b[0;32m--> 377\u001b[0m X, fitted_transformer \u001b[39m=\u001b[39m fit_transform_one_cached(\n\u001b[1;32m    378\u001b[0m     cloned_transformer,\n\u001b[1;32m    379\u001b[0m     X,\n\u001b[1;32m    380\u001b[0m     y,\n\u001b[1;32m    381\u001b[0m     \u001b[39mNone\u001b[39;49;00m,\n\u001b[1;32m    382\u001b[0m     message_clsname\u001b[39m=\u001b[39;49m\u001b[39m\"\u001b[39;49m\u001b[39mPipeline\u001b[39;49m\u001b[39m\"\u001b[39;49m,\n\u001b[1;32m    383\u001b[0m     message\u001b[39m=\u001b[39;49m\u001b[39mself\u001b[39;49m\u001b[39m.\u001b[39;49m_log_message(step_idx),\n\u001b[1;32m    384\u001b[0m     \u001b[39m*\u001b[39;49m\u001b[39m*\u001b[39;49mfit_params_steps[name],\n\u001b[1;32m    385\u001b[0m )\n\u001b[1;32m    386\u001b[0m \u001b[39m# Replace the transformer of the step with the fitted\u001b[39;00m\n\u001b[1;32m    387\u001b[0m \u001b[39m# transformer. This is necessary when loading the transformer\u001b[39;00m\n\u001b[1;32m    388\u001b[0m \u001b[39m# from the cache.\u001b[39;00m\n\u001b[1;32m    389\u001b[0m \u001b[39mself\u001b[39m\u001b[39m.\u001b[39msteps[step_idx] \u001b[39m=\u001b[39m (name, fitted_transformer)\n",
      "File \u001b[0;32m~/Projects/tdt4173-project/venv/lib/python3.10/site-packages/joblib/memory.py:353\u001b[0m, in \u001b[0;36mNotMemorizedFunc.__call__\u001b[0;34m(self, *args, **kwargs)\u001b[0m\n\u001b[1;32m    352\u001b[0m \u001b[39mdef\u001b[39;00m \u001b[39m__call__\u001b[39m(\u001b[39mself\u001b[39m, \u001b[39m*\u001b[39margs, \u001b[39m*\u001b[39m\u001b[39m*\u001b[39mkwargs):\n\u001b[0;32m--> 353\u001b[0m     \u001b[39mreturn\u001b[39;00m \u001b[39mself\u001b[39;49m\u001b[39m.\u001b[39;49mfunc(\u001b[39m*\u001b[39;49margs, \u001b[39m*\u001b[39;49m\u001b[39m*\u001b[39;49mkwargs)\n",
      "File \u001b[0;32m~/Projects/tdt4173-project/venv/lib/python3.10/site-packages/sklearn/pipeline.py:957\u001b[0m, in \u001b[0;36m_fit_transform_one\u001b[0;34m(transformer, X, y, weight, message_clsname, message, **fit_params)\u001b[0m\n\u001b[1;32m    955\u001b[0m \u001b[39mwith\u001b[39;00m _print_elapsed_time(message_clsname, message):\n\u001b[1;32m    956\u001b[0m     \u001b[39mif\u001b[39;00m \u001b[39mhasattr\u001b[39m(transformer, \u001b[39m\"\u001b[39m\u001b[39mfit_transform\u001b[39m\u001b[39m\"\u001b[39m):\n\u001b[0;32m--> 957\u001b[0m         res \u001b[39m=\u001b[39m transformer\u001b[39m.\u001b[39;49mfit_transform(X, y, \u001b[39m*\u001b[39;49m\u001b[39m*\u001b[39;49mfit_params)\n\u001b[1;32m    958\u001b[0m     \u001b[39melse\u001b[39;00m:\n\u001b[1;32m    959\u001b[0m         res \u001b[39m=\u001b[39m transformer\u001b[39m.\u001b[39mfit(X, y, \u001b[39m*\u001b[39m\u001b[39m*\u001b[39mfit_params)\u001b[39m.\u001b[39mtransform(X)\n",
      "File \u001b[0;32m~/Projects/tdt4173-project/venv/lib/python3.10/site-packages/sklearn/utils/_set_output.py:157\u001b[0m, in \u001b[0;36m_wrap_method_output.<locals>.wrapped\u001b[0;34m(self, X, *args, **kwargs)\u001b[0m\n\u001b[1;32m    155\u001b[0m \u001b[39m@wraps\u001b[39m(f)\n\u001b[1;32m    156\u001b[0m \u001b[39mdef\u001b[39;00m \u001b[39mwrapped\u001b[39m(\u001b[39mself\u001b[39m, X, \u001b[39m*\u001b[39margs, \u001b[39m*\u001b[39m\u001b[39m*\u001b[39mkwargs):\n\u001b[0;32m--> 157\u001b[0m     data_to_wrap \u001b[39m=\u001b[39m f(\u001b[39mself\u001b[39;49m, X, \u001b[39m*\u001b[39;49margs, \u001b[39m*\u001b[39;49m\u001b[39m*\u001b[39;49mkwargs)\n\u001b[1;32m    158\u001b[0m     \u001b[39mif\u001b[39;00m \u001b[39misinstance\u001b[39m(data_to_wrap, \u001b[39mtuple\u001b[39m):\n\u001b[1;32m    159\u001b[0m         \u001b[39m# only wrap the first output for cross decomposition\u001b[39;00m\n\u001b[1;32m    160\u001b[0m         return_tuple \u001b[39m=\u001b[39m (\n\u001b[1;32m    161\u001b[0m             _wrap_data_with_container(method, data_to_wrap[\u001b[39m0\u001b[39m], X, \u001b[39mself\u001b[39m),\n\u001b[1;32m    162\u001b[0m             \u001b[39m*\u001b[39mdata_to_wrap[\u001b[39m1\u001b[39m:],\n\u001b[1;32m    163\u001b[0m         )\n",
      "File \u001b[0;32m~/Projects/tdt4173-project/venv/lib/python3.10/site-packages/sklearn/base.py:1152\u001b[0m, in \u001b[0;36m_fit_context.<locals>.decorator.<locals>.wrapper\u001b[0;34m(estimator, *args, **kwargs)\u001b[0m\n\u001b[1;32m   1145\u001b[0m     estimator\u001b[39m.\u001b[39m_validate_params()\n\u001b[1;32m   1147\u001b[0m \u001b[39mwith\u001b[39;00m config_context(\n\u001b[1;32m   1148\u001b[0m     skip_parameter_validation\u001b[39m=\u001b[39m(\n\u001b[1;32m   1149\u001b[0m         prefer_skip_nested_validation \u001b[39mor\u001b[39;00m global_skip_validation\n\u001b[1;32m   1150\u001b[0m     )\n\u001b[1;32m   1151\u001b[0m ):\n\u001b[0;32m-> 1152\u001b[0m     \u001b[39mreturn\u001b[39;00m fit_method(estimator, \u001b[39m*\u001b[39;49margs, \u001b[39m*\u001b[39;49m\u001b[39m*\u001b[39;49mkwargs)\n",
      "File \u001b[0;32m~/Projects/tdt4173-project/venv/lib/python3.10/site-packages/sklearn/compose/_column_transformer.py:750\u001b[0m, in \u001b[0;36mColumnTransformer.fit_transform\u001b[0;34m(self, X, y)\u001b[0m\n\u001b[1;32m    748\u001b[0m \u001b[39m# set n_features_in_ attribute\u001b[39;00m\n\u001b[1;32m    749\u001b[0m \u001b[39mself\u001b[39m\u001b[39m.\u001b[39m_check_n_features(X, reset\u001b[39m=\u001b[39m\u001b[39mTrue\u001b[39;00m)\n\u001b[0;32m--> 750\u001b[0m \u001b[39mself\u001b[39;49m\u001b[39m.\u001b[39;49m_validate_transformers()\n\u001b[1;32m    751\u001b[0m \u001b[39mself\u001b[39m\u001b[39m.\u001b[39m_validate_column_callables(X)\n\u001b[1;32m    752\u001b[0m \u001b[39mself\u001b[39m\u001b[39m.\u001b[39m_validate_remainder(X)\n",
      "File \u001b[0;32m~/Projects/tdt4173-project/venv/lib/python3.10/site-packages/sklearn/compose/_column_transformer.py:443\u001b[0m, in \u001b[0;36mColumnTransformer._validate_transformers\u001b[0;34m(self)\u001b[0m\n\u001b[1;32m    438\u001b[0m     \u001b[39mcontinue\u001b[39;00m\n\u001b[1;32m    439\u001b[0m \u001b[39mif\u001b[39;00m \u001b[39mnot\u001b[39;00m (\u001b[39mhasattr\u001b[39m(t, \u001b[39m\"\u001b[39m\u001b[39mfit\u001b[39m\u001b[39m\"\u001b[39m) \u001b[39mor\u001b[39;00m \u001b[39mhasattr\u001b[39m(t, \u001b[39m\"\u001b[39m\u001b[39mfit_transform\u001b[39m\u001b[39m\"\u001b[39m)) \u001b[39mor\u001b[39;00m \u001b[39mnot\u001b[39;00m \u001b[39mhasattr\u001b[39m(\n\u001b[1;32m    440\u001b[0m     t, \u001b[39m\"\u001b[39m\u001b[39mtransform\u001b[39m\u001b[39m\"\u001b[39m\n\u001b[1;32m    441\u001b[0m ):\n\u001b[1;32m    442\u001b[0m     \u001b[39m# Used to validate the transformers in the `transformers` list\u001b[39;00m\n\u001b[0;32m--> 443\u001b[0m     \u001b[39mraise\u001b[39;00m \u001b[39mTypeError\u001b[39;00m(\n\u001b[1;32m    444\u001b[0m         \u001b[39m\"\u001b[39m\u001b[39mAll estimators should implement fit and \u001b[39m\u001b[39m\"\u001b[39m\n\u001b[1;32m    445\u001b[0m         \u001b[39m\"\u001b[39m\u001b[39mtransform, or can be \u001b[39m\u001b[39m'\u001b[39m\u001b[39mdrop\u001b[39m\u001b[39m'\u001b[39m\u001b[39m or \u001b[39m\u001b[39m'\u001b[39m\u001b[39mpassthrough\u001b[39m\u001b[39m'\u001b[39m\u001b[39m \u001b[39m\u001b[39m\"\u001b[39m\n\u001b[1;32m    446\u001b[0m         \u001b[39m\"\u001b[39m\u001b[39mspecifiers. \u001b[39m\u001b[39m'\u001b[39m\u001b[39m%s\u001b[39;00m\u001b[39m'\u001b[39m\u001b[39m (type \u001b[39m\u001b[39m%s\u001b[39;00m\u001b[39m) doesn\u001b[39m\u001b[39m'\u001b[39m\u001b[39mt.\u001b[39m\u001b[39m\"\u001b[39m \u001b[39m%\u001b[39m (t, \u001b[39mtype\u001b[39m(t))\n\u001b[1;32m    447\u001b[0m     )\n",
      "\u001b[0;31mTypeError\u001b[0m: All estimators should implement fit and transform, or can be 'drop' or 'passthrough' specifiers. '<ufunc 'log1p'>' (type <class 'numpy.ufunc'>) doesn't."
     ]
    }
   ],
   "source": [
    "locA_pipeline.fit(X_train_a, targets_a)\n",
    "pred_a = locA_pipeline.predict(X_test_a.drop(columns=[\"id\", \"prediction\", \"location\"]))"
   ]
  },
  {
   "cell_type": "code",
   "execution_count": null,
   "metadata": {},
   "outputs": [],
   "source": []
  }
 ],
 "metadata": {
  "kernelspec": {
   "display_name": "venv",
   "language": "python",
   "name": "python3"
  },
  "language_info": {
   "codemirror_mode": {
    "name": "ipython",
    "version": 3
   },
   "file_extension": ".py",
   "mimetype": "text/x-python",
   "name": "python",
   "nbconvert_exporter": "python",
   "pygments_lexer": "ipython3",
   "version": "3.10.7"
  }
 },
 "nbformat": 4,
 "nbformat_minor": 2
}
