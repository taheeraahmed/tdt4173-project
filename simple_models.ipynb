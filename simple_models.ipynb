{
 "cells": [
  {
   "cell_type": "code",
   "execution_count": 1,
   "metadata": {},
   "outputs": [],
   "source": [
    "import pandas as pd\n",
    "import numpy as np\n",
    "from functions import load_data, get_train_targets, get_test_data, prepare_submission, remove_ouliers\n",
    "\n",
    "data_a, data_b, data_c = load_data()\n",
    "\n",
    "data_a = remove_ouliers(data_a)\n",
    "data_b = remove_ouliers(data_b)\n",
    "data_c = remove_ouliers(data_c)\n",
    "\n",
    "X_train_a, targets_a = get_train_targets(data_a)\n",
    "X_train_b, targets_b = get_train_targets(data_b)\n",
    "X_train_c, targets_c = get_train_targets(data_c)\n",
    "\n",
    "X_test_a, X_test_b, X_test_c = get_test_data()"
   ]
  },
  {
   "cell_type": "code",
   "execution_count": 2,
   "metadata": {},
   "outputs": [],
   "source": [
    "locA_features = ['clear_sky_energy_1h:J', 'cloud_base_agl:m', 'dew_point_2m:K', \n",
    "                 'diffuse_rad_1h:J', 'direct_rad_1h:J', 'sun_azimuth:d', 'sun_elevation:d', \n",
    "                 'wind_speed_u_10m:ms','sfc_pressure:hPa','snow_water:kgm2','precip_5min:mm', \n",
    "                 'fresh_snow_3h:cm']\n",
    "\n",
    "drop_colsA = list(set(list(X_train_a.columns)) - set(locA_features))\n",
    "\n",
    "log_transformA = ['cloud_base_agl:m', 'dew_point_2m:K', 'diffuse_rad_1h:J', 'direct_rad_1h:J', 'sun_elevation:d', \n",
    "                 'snow_water:kgm2','precip_5min:mm', 'fresh_snow_3h:cm','dew_point_2m:K']\n",
    "log_transformB = ['cloud_base_agl:m', 'dew_point_2m:K', 'diffuse_rad:W', 'direct_rad:W', 'sun_elevation:d', \n",
    "                 'snow_water:kgm2','precip_5min:mm', 'fresh_snow_3h:cm']\n",
    "log_transformC = ['cloud_base_agl:m', 'dew_point_2m:K', 'diffuse_rad:W', 'direct_rad:W', 'sun_elevation:d', \n",
    "                 'snow_water:kgm2','precip_5min:mm', 'fresh_snow_3h:cm','dew_point_2m:K']\n",
    "\n",
    "locB_features = ['clear_sky_rad:W', 'cloud_base_agl:m',\n",
    "                 'diffuse_rad:W', 'direct_rad:W', 'sun_azimuth:d', 'sun_elevation:d', \n",
    "                 'wind_speed_u_10m:ms','sfc_pressure:hPa','snow_water:kgm2','precip_5min:mm', \n",
    "                 'fresh_snow_3h:cm','dew_point_2m:K']\n",
    "\n",
    "drop_colsB = list(set(list(X_train_b.columns)) - set(locB_features))\n",
    "\n",
    "\n",
    "locC_features = ['clear_sky_rad:W', 'cloud_base_agl:m',\n",
    "                 'diffuse_rad:W', 'direct_rad:W', 'sun_azimuth:d', 'sun_elevation:d', \n",
    "                 'wind_speed_u_10m:ms','sfc_pressure:hPa','snow_water:kgm2','precip_5min:mm', \n",
    "                 'fresh_snow_3h:cm','dew_point_2m:K']\n",
    "\n",
    "drop_colsC = list(set(list(X_train_c.columns)) - set(locC_features))"
   ]
  },
  {
   "cell_type": "code",
   "execution_count": 3,
   "metadata": {},
   "outputs": [],
   "source": [
    "from sklearn.pipeline import Pipeline\n",
    "from sklearn.base import BaseEstimator, TransformerMixin\n",
    "from sklearn.compose import ColumnTransformer\n",
    "from sklearn.impute import SimpleImputer\n",
    "from sklearn.ensemble import RandomForestRegressor\n",
    "from xgboost import XGBRegressor\n",
    "from sklearn.svm import SVR\n",
    "from sklearn.preprocessing import StandardScaler\n",
    "\n",
    "class ColumnDropper(BaseEstimator, TransformerMixin):\n",
    "    \"\"\"Drops columns from the data.\"\"\"\n",
    "\n",
    "    def __init__(self, drop_cols = []):\n",
    "        self.drop_cols = drop_cols\n",
    "\n",
    "    def fit(self, X, y=None):\n",
    "        return self\n",
    "\n",
    "    def transform(self, X):\n",
    "        X_copy = X.copy()\n",
    "        return X_copy.drop(columns=self.drop_cols)\n",
    "    \n",
    "class LogTransformer(BaseEstimator, TransformerMixin):\n",
    "    \"\"\"Does a log transform on specified columns.\"\"\"\n",
    "\n",
    "    def __init__(self, cols = []):\n",
    "        self.cols = cols\n",
    "\n",
    "    def fit(self, X, y=None):\n",
    "        return self\n",
    "\n",
    "    def transform(self, X):\n",
    "        X_copy = X.copy()\n",
    "        X_copy[self.cols].apply(lambda x: np.log(x))\n",
    "        return X_copy.drop(columns=self.cols)\n",
    "\n",
    "\n",
    "locA_pipeline = Pipeline([\n",
    "    ('drop_cols', ColumnDropper(drop_cols=drop_colsA)),\n",
    "    ('log_transform', LogTransformer(cols=log_transformA)),\n",
    "    ('imputer', SimpleImputer(missing_values=np.nan, strategy='constant', fill_value=0)),\n",
    "    ('standard_scaler', StandardScaler()),\n",
    "    ('svr', SVR())\n",
    "])\n",
    "\n",
    "locB_pipeline = Pipeline([\n",
    "    ('drop_cols', ColumnDropper(drop_cols=drop_colsB)),\n",
    "    ('log_transform', LogTransformer(cols=log_transformB)),\n",
    "    ('imputer', SimpleImputer(missing_values=np.nan, strategy='constant', fill_value=0)),\n",
    "    ('standard_scaler', StandardScaler()),\n",
    "    ('svr', SVR())\n",
    "])\n",
    "\n",
    "locC_pipeline = Pipeline([\n",
    "    ('drop_cols', ColumnDropper(drop_cols=drop_colsC)),\n",
    "    ('log_transform', LogTransformer(cols=log_transformC)),\n",
    "    ('imputer', SimpleImputer(missing_values=np.nan, strategy='constant', fill_value=0)),\n",
    "    ('standard_scaler', StandardScaler()),\n",
    "    ('svr', SVR())\n",
    "])"
   ]
  },
  {
   "cell_type": "code",
   "execution_count": 4,
   "metadata": {},
   "outputs": [
    {
     "name": "stderr",
     "output_type": "stream",
     "text": [
      "/Users/andreastallvik/Projects/tdt4173-project/venv/lib/python3.10/site-packages/pandas/core/arraylike.py:396: RuntimeWarning: divide by zero encountered in log\n",
      "  result = getattr(ufunc, method)(*inputs, **kwargs)\n",
      "/Users/andreastallvik/Projects/tdt4173-project/venv/lib/python3.10/site-packages/pandas/core/arraylike.py:396: RuntimeWarning: invalid value encountered in log\n",
      "  result = getattr(ufunc, method)(*inputs, **kwargs)\n",
      "/Users/andreastallvik/Projects/tdt4173-project/venv/lib/python3.10/site-packages/pandas/core/arraylike.py:396: RuntimeWarning: divide by zero encountered in log\n",
      "  result = getattr(ufunc, method)(*inputs, **kwargs)\n",
      "/Users/andreastallvik/Projects/tdt4173-project/venv/lib/python3.10/site-packages/pandas/core/arraylike.py:396: RuntimeWarning: invalid value encountered in log\n",
      "  result = getattr(ufunc, method)(*inputs, **kwargs)\n"
     ]
    }
   ],
   "source": [
    "locA_pipeline.fit(X_train_a, targets_a)\n",
    "pred_a = locA_pipeline.predict(X_test_a.drop(columns=[\"id\", \"prediction\", \"location\"]))"
   ]
  },
  {
   "cell_type": "code",
   "execution_count": 5,
   "metadata": {},
   "outputs": [
    {
     "name": "stderr",
     "output_type": "stream",
     "text": [
      "/Users/andreastallvik/Projects/tdt4173-project/venv/lib/python3.10/site-packages/pandas/core/arraylike.py:396: RuntimeWarning: divide by zero encountered in log\n",
      "  result = getattr(ufunc, method)(*inputs, **kwargs)\n",
      "/Users/andreastallvik/Projects/tdt4173-project/venv/lib/python3.10/site-packages/pandas/core/arraylike.py:396: RuntimeWarning: invalid value encountered in log\n",
      "  result = getattr(ufunc, method)(*inputs, **kwargs)\n",
      "/Users/andreastallvik/Projects/tdt4173-project/venv/lib/python3.10/site-packages/pandas/core/arraylike.py:396: RuntimeWarning: divide by zero encountered in log\n",
      "  result = getattr(ufunc, method)(*inputs, **kwargs)\n",
      "/Users/andreastallvik/Projects/tdt4173-project/venv/lib/python3.10/site-packages/pandas/core/arraylike.py:396: RuntimeWarning: invalid value encountered in log\n",
      "  result = getattr(ufunc, method)(*inputs, **kwargs)\n"
     ]
    }
   ],
   "source": [
    "locB_pipeline.fit(X_train_b, targets_b)\n",
    "pred_b = locB_pipeline.predict(X_test_b.drop(columns=[\"id\", \"prediction\", \"location\"]))"
   ]
  },
  {
   "cell_type": "code",
   "execution_count": 6,
   "metadata": {},
   "outputs": [
    {
     "name": "stderr",
     "output_type": "stream",
     "text": [
      "/Users/andreastallvik/Projects/tdt4173-project/venv/lib/python3.10/site-packages/pandas/core/arraylike.py:396: RuntimeWarning: divide by zero encountered in log\n",
      "  result = getattr(ufunc, method)(*inputs, **kwargs)\n",
      "/Users/andreastallvik/Projects/tdt4173-project/venv/lib/python3.10/site-packages/pandas/core/arraylike.py:396: RuntimeWarning: invalid value encountered in log\n",
      "  result = getattr(ufunc, method)(*inputs, **kwargs)\n",
      "/Users/andreastallvik/Projects/tdt4173-project/venv/lib/python3.10/site-packages/pandas/core/arraylike.py:396: RuntimeWarning: divide by zero encountered in log\n",
      "  result = getattr(ufunc, method)(*inputs, **kwargs)\n",
      "/Users/andreastallvik/Projects/tdt4173-project/venv/lib/python3.10/site-packages/pandas/core/arraylike.py:396: RuntimeWarning: invalid value encountered in log\n",
      "  result = getattr(ufunc, method)(*inputs, **kwargs)\n"
     ]
    }
   ],
   "source": [
    "locC_pipeline.fit(X_train_c, targets_c)\n",
    "pred_c = locC_pipeline.predict(X_test_c.drop(columns=[\"id\", \"prediction\", \"location\"]))"
   ]
  },
  {
   "cell_type": "code",
   "execution_count": 7,
   "metadata": {},
   "outputs": [
    {
     "name": "stderr",
     "output_type": "stream",
     "text": [
      "/Users/andreastallvik/Projects/tdt4173-project/venv/lib/python3.10/site-packages/pandas/core/arraylike.py:396: RuntimeWarning: divide by zero encountered in log\n",
      "  result = getattr(ufunc, method)(*inputs, **kwargs)\n",
      "/Users/andreastallvik/Projects/tdt4173-project/venv/lib/python3.10/site-packages/pandas/core/arraylike.py:396: RuntimeWarning: invalid value encountered in log\n",
      "  result = getattr(ufunc, method)(*inputs, **kwargs)\n"
     ]
    }
   ],
   "source": [
    "from sklearn.metrics import mean_squared_error\n",
    "\n",
    "train_predA = locA_pipeline.predict(X_train_a)\n",
    "# train_predB = locB_pipeline.predict(X_train_b)\n",
    "# train_predC = locC_pipeline.predict(X_train_c)\n",
    "\n",
    "# print(\"MSA A:\", mean_squared_error(train_predA, targets_a))\n",
    "# print(\"MSA B:\", mean_squared_error(train_predB, targets_b))\n",
    "# print(\"MSA C:\", mean_squared_error(train_predC, targets_c))"
   ]
  },
  {
   "cell_type": "code",
   "execution_count": 7,
   "metadata": {},
   "outputs": [],
   "source": [
    "submission = prepare_submission(X_test_a, X_test_b, X_test_c, pred_a, pred_b, pred_c)\n",
    "submission['prediction'] = submission['prediction'].apply(lambda x: 0 if x < 0.05 else x)"
   ]
  },
  {
   "cell_type": "code",
   "execution_count": 8,
   "metadata": {},
   "outputs": [
    {
     "data": {
      "text/html": [
       "<div>\n",
       "<style scoped>\n",
       "    .dataframe tbody tr th:only-of-type {\n",
       "        vertical-align: middle;\n",
       "    }\n",
       "\n",
       "    .dataframe tbody tr th {\n",
       "        vertical-align: top;\n",
       "    }\n",
       "\n",
       "    .dataframe thead th {\n",
       "        text-align: right;\n",
       "    }\n",
       "</style>\n",
       "<table border=\"1\" class=\"dataframe\">\n",
       "  <thead>\n",
       "    <tr style=\"text-align: right;\">\n",
       "      <th></th>\n",
       "      <th>id</th>\n",
       "      <th>prediction</th>\n",
       "    </tr>\n",
       "  </thead>\n",
       "  <tbody>\n",
       "    <tr>\n",
       "      <th>0</th>\n",
       "      <td>0</td>\n",
       "      <td>0.158619</td>\n",
       "    </tr>\n",
       "    <tr>\n",
       "      <th>1</th>\n",
       "      <td>1</td>\n",
       "      <td>0.000000</td>\n",
       "    </tr>\n",
       "    <tr>\n",
       "      <th>2</th>\n",
       "      <td>2</td>\n",
       "      <td>1.419603</td>\n",
       "    </tr>\n",
       "    <tr>\n",
       "      <th>3</th>\n",
       "      <td>3</td>\n",
       "      <td>4.101368</td>\n",
       "    </tr>\n",
       "    <tr>\n",
       "      <th>4</th>\n",
       "      <td>4</td>\n",
       "      <td>45.666944</td>\n",
       "    </tr>\n",
       "    <tr>\n",
       "      <th>...</th>\n",
       "      <td>...</td>\n",
       "      <td>...</td>\n",
       "    </tr>\n",
       "    <tr>\n",
       "      <th>715</th>\n",
       "      <td>2155</td>\n",
       "      <td>22.152547</td>\n",
       "    </tr>\n",
       "    <tr>\n",
       "      <th>716</th>\n",
       "      <td>2156</td>\n",
       "      <td>5.763198</td>\n",
       "    </tr>\n",
       "    <tr>\n",
       "      <th>717</th>\n",
       "      <td>2157</td>\n",
       "      <td>0.491911</td>\n",
       "    </tr>\n",
       "    <tr>\n",
       "      <th>718</th>\n",
       "      <td>2158</td>\n",
       "      <td>0.103863</td>\n",
       "    </tr>\n",
       "    <tr>\n",
       "      <th>719</th>\n",
       "      <td>2159</td>\n",
       "      <td>0.432842</td>\n",
       "    </tr>\n",
       "  </tbody>\n",
       "</table>\n",
       "<p>2160 rows × 2 columns</p>\n",
       "</div>"
      ],
      "text/plain": [
       "       id  prediction\n",
       "0       0    0.158619\n",
       "1       1    0.000000\n",
       "2       2    1.419603\n",
       "3       3    4.101368\n",
       "4       4   45.666944\n",
       "..    ...         ...\n",
       "715  2155   22.152547\n",
       "716  2156    5.763198\n",
       "717  2157    0.491911\n",
       "718  2158    0.103863\n",
       "719  2159    0.432842\n",
       "\n",
       "[2160 rows x 2 columns]"
      ]
     },
     "execution_count": 8,
     "metadata": {},
     "output_type": "execute_result"
    }
   ],
   "source": [
    "submission"
   ]
  },
  {
   "cell_type": "code",
   "execution_count": 9,
   "metadata": {},
   "outputs": [],
   "source": [
    "submission.to_csv('submissions/SVR_default_params_few_features.csv', index=False)"
   ]
  },
  {
   "cell_type": "code",
   "execution_count": null,
   "metadata": {},
   "outputs": [],
   "source": []
  }
 ],
 "metadata": {
  "kernelspec": {
   "display_name": "venv",
   "language": "python",
   "name": "python3"
  },
  "language_info": {
   "codemirror_mode": {
    "name": "ipython",
    "version": 3
   },
   "file_extension": ".py",
   "mimetype": "text/x-python",
   "name": "python",
   "nbconvert_exporter": "python",
   "pygments_lexer": "ipython3",
   "version": "3.10.7"
  }
 },
 "nbformat": 4,
 "nbformat_minor": 2
}
