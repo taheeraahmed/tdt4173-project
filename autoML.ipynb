{
 "cells": [
  {
   "cell_type": "markdown",
   "metadata": {},
   "source": [
    "attempting to run an autoML pipeline for location A"
   ]
  },
  {
   "cell_type": "code",
   "execution_count": 1,
   "metadata": {},
   "outputs": [],
   "source": [
    "from tpot import TPOTRegressor\n",
    "from functions import load_data, get_train_targets, get_test_data, prepare_submission\n",
    "from sklearn.model_selection import train_test_split, RepeatedKFold\n",
    "\n",
    "data_a, data_b, data_c = load_data()\n",
    "\n",
    "X_train_a, targets_a = get_train_targets(data_a)"
   ]
  },
  {
   "cell_type": "code",
   "execution_count": 2,
   "metadata": {},
   "outputs": [
    {
     "data": {
      "text/plain": [
       "Index(['time', 'absolute_humidity_2m:gm3', 'air_density_2m:kgm3',\n",
       "       'ceiling_height_agl:m', 'clear_sky_energy_1h:J', 'clear_sky_rad:W',\n",
       "       'cloud_base_agl:m', 'dew_or_rime:idx', 'dew_point_2m:K',\n",
       "       'diffuse_rad:W', 'diffuse_rad_1h:J', 'direct_rad:W', 'direct_rad_1h:J',\n",
       "       'effective_cloud_cover:p', 'elevation:m', 'fresh_snow_12h:cm',\n",
       "       'fresh_snow_1h:cm', 'fresh_snow_24h:cm', 'fresh_snow_3h:cm',\n",
       "       'fresh_snow_6h:cm', 'is_day:idx', 'is_in_shadow:idx',\n",
       "       'msl_pressure:hPa', 'precip_5min:mm', 'precip_type_5min:idx',\n",
       "       'pressure_100m:hPa', 'pressure_50m:hPa', 'prob_rime:p',\n",
       "       'rain_water:kgm2', 'relative_humidity_1000hPa:p', 'sfc_pressure:hPa',\n",
       "       'snow_density:kgm3', 'snow_depth:cm', 'snow_drift:idx',\n",
       "       'snow_melt_10min:mm', 'snow_water:kgm2', 'sun_azimuth:d',\n",
       "       'sun_elevation:d', 'super_cooled_liquid_water:kgm2', 't_1000hPa:K',\n",
       "       'total_cloud_cover:p', 'visibility:m', 'wind_speed_10m:ms',\n",
       "       'wind_speed_u_10m:ms', 'wind_speed_v_10m:ms', 'wind_speed_w_1000hPa:ms',\n",
       "       'date_calc'],\n",
       "      dtype='object')"
      ]
     },
     "execution_count": 2,
     "metadata": {},
     "output_type": "execute_result"
    }
   ],
   "source": [
    "X_train_a.columns"
   ]
  },
  {
   "cell_type": "code",
   "execution_count": 3,
   "metadata": {},
   "outputs": [],
   "source": [
    "drop_cols = ['time', 'date_calc', 'elevation:m', 'fresh_snow_1h:cm', 'wind_speed_u_10m:ms', 'wind_speed_u_10m:ms', 'wind_speed_v_10m:ms', 'wind_speed_w_1000hPa:ms']"
   ]
  },
  {
   "cell_type": "code",
   "execution_count": 13,
   "metadata": {},
   "outputs": [
    {
     "data": {
      "text/plain": [
       "count    34061.000000\n",
       "mean         0.055703\n",
       "std          0.109655\n",
       "min          0.000000\n",
       "25%          0.000000\n",
       "50%          0.000000\n",
       "75%          0.100000\n",
       "max          1.400000\n",
       "Name: super_cooled_liquid_water:kgm2, dtype: float64"
      ]
     },
     "execution_count": 13,
     "metadata": {},
     "output_type": "execute_result"
    }
   ],
   "source": [
    "X_train_a['super_cooled_liquid_water:kgm2'].describe()"
   ]
  },
  {
   "cell_type": "code",
   "execution_count": 12,
   "metadata": {},
   "outputs": [
    {
     "name": "stdout",
     "output_type": "stream",
     "text": [
      "                                                                               \n",
      "                                                                               \n",
      "TPOT closed during evaluation in one generation.\n",
      "WARNING: TPOT may not provide a good pipeline if TPOT is stopped/interrupted in a early generation.\n",
      "                                                                               \n",
      "                                                                               \n",
      "TPOT closed prematurely. Will use the current best pipeline.\n",
      "                                                                               \n",
      "Best pipeline: XGBRegressor(ExtraTreesRegressor(input_matrix, bootstrap=False, max_features=0.3, min_samples_leaf=1, min_samples_split=12, n_estimators=100), learning_rate=1.0, max_depth=10, min_child_weight=2, n_estimators=100, n_jobs=1, objective=reg:squarederror, subsample=0.7500000000000001, verbosity=0)\n"
     ]
    }
   ],
   "source": [
    "X = X_train_a.drop(columns=drop_cols).fillna(0)\n",
    "y = targets_a\n",
    "\n",
    "cv = RepeatedKFold(n_splits=5, n_repeats=2, random_state=42)\n",
    "\n",
    "model = TPOTRegressor(generations=5, population_size=50, scoring='neg_mean_absolute_error', cv=cv, verbosity=2, random_state=1, n_jobs=-1)\n",
    "model.fit(X, y)\n",
    "model.export('tpot_locA_best_model.py')"
   ]
  },
  {
   "cell_type": "code",
   "execution_count": 9,
   "metadata": {},
   "outputs": [
    {
     "name": "stdout",
     "output_type": "stream",
     "text": [
      "                                                                               \n",
      "                                                                               \n",
      "TPOT closed during evaluation in one generation.\n",
      "WARNING: TPOT may not provide a good pipeline if TPOT is stopped/interrupted in a early generation.\n",
      "                                                                               \n",
      "                                                                               \n",
      "TPOT closed prematurely. Will use the current best pipeline.\n",
      "                                                                               \r"
     ]
    }
   ],
   "source": [
    "X_train, X_test, y_train, y_test = train_test_split(X_train_a.drop(columns=drop_cols).fillna(0), targets_a,\n",
    "                                                     train_size=0.9, test_size=0.1, random_state=42)\n",
    "tpot = TPOTRegressor(generations=5, population_size=50, verbosity=2, random_state=42)\n",
    "tpot.fit(X_train, y_train)\n",
    "print(tpot.score(X_test, y_test))\n",
    "tpot.export('tpot_loc_A_pipeline.py')"
   ]
  },
  {
   "cell_type": "markdown",
   "metadata": {},
   "source": [
    "- ran using the [autoML_run.py](autoML_run.py) script"
   ]
  },
  {
   "cell_type": "markdown",
   "metadata": {},
   "source": [
    "## Using the output from the autoML_run script to generate submission:"
   ]
  },
  {
   "cell_type": "code",
   "execution_count": 1,
   "metadata": {},
   "outputs": [],
   "source": [
    "import pandas as pd\n",
    "import numpy as np\n",
    "from functions import load_data, get_train_targets, get_test_data, prepare_submission\n",
    "\n",
    "data_a, data_b, data_c = load_data()\n",
    "\n",
    "X_train_a, targets_a = get_train_targets(data_a)\n",
    "X_train_b, targets_b = get_train_targets(data_b)\n",
    "X_train_c, targets_c = get_train_targets(data_c)\n",
    "\n",
    "X_test_a, X_test_b, X_test_c = get_test_data()"
   ]
  },
  {
   "cell_type": "code",
   "execution_count": 2,
   "metadata": {},
   "outputs": [],
   "source": [
    "drop_cols = ['time', 'date_calc', 'elevation:m', 'fresh_snow_1h:cm', 'wind_speed_u_10m:ms', \n",
    "             'wind_speed_u_10m:ms', 'wind_speed_v_10m:ms', 'wind_speed_w_1000hPa:ms', 'prob_rime:p',\n",
    "             'fresh_snow_12h:cm','fresh_snow_24h:cm', 'fresh_snow_6h:cm', 'super_cooled_liquid_water:kgm2']"
   ]
  },
  {
   "cell_type": "code",
   "execution_count": 5,
   "metadata": {},
   "outputs": [],
   "source": [
    "from sklearn.pipeline import Pipeline\n",
    "from sklearn.base import BaseEstimator, TransformerMixin\n",
    "from sklearn.impute import SimpleImputer\n",
    "from sklearn.ensemble import RandomForestRegressor\n",
    "from xgboost import XGBRegressor\n",
    "\n",
    "class ColumnDropper(BaseEstimator, TransformerMixin):\n",
    "    \"\"\"Drops columns from the data.\"\"\"\n",
    "\n",
    "    def __init__(self, drop_cols = []):\n",
    "        self.drop_cols = drop_cols\n",
    "\n",
    "    def fit(self, X, y=None):\n",
    "        return self\n",
    "\n",
    "    def transform(self, X):\n",
    "        X_copy = X.copy()\n",
    "        return X_copy.drop(columns=self.drop_cols)\n",
    "\n",
    "data_process_pipeline = Pipeline([\n",
    "    ('drop_cols', ColumnDropper(drop_cols=drop_cols)),\n",
    "    ('imputer', SimpleImputer(missing_values=np.nan, strategy='constant', fill_value=0)),\n",
    "])\n",
    "\n",
    "locA_pipeline = Pipeline([\n",
    "    ('data_process', data_process_pipeline),\n",
    "    ('random_forest', XGBRegressor(learning_rate=0.1, max_depth=9, min_child_weight=6, n_estimators=100, n_jobs=1, objective=\"reg:squarederror\", subsample=0.7000000000000001, verbosity=0))\n",
    "])\n",
    "\n",
    "locB_pipeline = Pipeline([\n",
    "    ('data_process', data_process_pipeline),\n",
    "    ('random_forest', RandomForestRegressor(bootstrap=False, max_features=0.4, min_samples_leaf=5, min_samples_split=2, n_estimators=100, random_state=1))\n",
    "])\n",
    "\n",
    "locC_pipeline = Pipeline([\n",
    "    ('data_process', data_process_pipeline),\n",
    "    ('random_forest', XGBRegressor(learning_rate=0.1, max_depth=9, min_child_weight=3, n_estimators=100, n_jobs=1, objective=\"reg:squarederror\", subsample=0.8500000000000001, verbosity=0))\n",
    "])"
   ]
  },
  {
   "cell_type": "code",
   "execution_count": 8,
   "metadata": {},
   "outputs": [],
   "source": [
    "locA_pipeline.fit(X_train_a, targets_a)\n",
    "pred_a = locA_pipeline.predict(X_test_a.drop(columns=[\"id\", \"prediction\", \"location\"]))"
   ]
  },
  {
   "cell_type": "code",
   "execution_count": 10,
   "metadata": {},
   "outputs": [],
   "source": [
    "locB_pipeline.fit(X_train_b, targets_b)\n",
    "pred_b = locB_pipeline.predict(X_test_b.drop(columns=[\"id\", \"prediction\", \"location\"]))"
   ]
  },
  {
   "cell_type": "code",
   "execution_count": 11,
   "metadata": {},
   "outputs": [],
   "source": [
    "locC_pipeline.fit(X_train_c, targets_c)\n",
    "pred_c = locC_pipeline.predict(X_test_c.drop(columns=[\"id\", \"prediction\", \"location\"]))"
   ]
  },
  {
   "cell_type": "code",
   "execution_count": 12,
   "metadata": {},
   "outputs": [],
   "source": [
    "submission = prepare_submission(X_test_a, X_test_b, X_test_c, pred_a, pred_b, pred_c)"
   ]
  },
  {
   "cell_type": "code",
   "execution_count": 13,
   "metadata": {},
   "outputs": [],
   "source": [
    "submission.to_csv('submissions/autoML_31_oct.csv', index=False)"
   ]
  },
  {
   "cell_type": "code",
   "execution_count": null,
   "metadata": {},
   "outputs": [],
   "source": []
  }
 ],
 "metadata": {
  "kernelspec": {
   "display_name": "venv",
   "language": "python",
   "name": "python3"
  },
  "language_info": {
   "codemirror_mode": {
    "name": "ipython",
    "version": 3
   },
   "file_extension": ".py",
   "mimetype": "text/x-python",
   "name": "python",
   "nbconvert_exporter": "python",
   "pygments_lexer": "ipython3",
   "version": "3.10.7"
  }
 },
 "nbformat": 4,
 "nbformat_minor": 2
}
